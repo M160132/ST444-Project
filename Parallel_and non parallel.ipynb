{
  "nbformat": 4,
  "nbformat_minor": 0,
  "metadata": {
    "colab": {
      "name": "ST444",
      "provenance": [],
      "collapsed_sections": []
    },
    "kernelspec": {
      "name": "python3",
      "display_name": "Python 3"
    }
  },
  "cells": [
    {
      "cell_type": "code",
      "metadata": {
        "colab": {
          "base_uri": "https://localhost:8080/"
        },
        "id": "3vnSmR7JnROV",
        "outputId": "cdbf87e9-0fe2-4ba2-e167-abd078b1979e"
      },
      "source": [
        "from google.colab import drive\r\n",
        "drive.mount('/content/drive')"
      ],
      "execution_count": 72,
      "outputs": [
        {
          "output_type": "stream",
          "text": [
            "Drive already mounted at /content/drive; to attempt to forcibly remount, call drive.mount(\"/content/drive\", force_remount=True).\n"
          ],
          "name": "stdout"
        }
      ]
    },
    {
      "cell_type": "code",
      "metadata": {
        "colab": {
          "base_uri": "https://localhost:8080/"
        },
        "id": "Skqad1XanjnX",
        "outputId": "76660cdc-f851-45d3-f2bb-3eacf0f7e4ba"
      },
      "source": [
        "cd /content/drive/MyDrive/Colab\\ Notebooks"
      ],
      "execution_count": null,
      "outputs": [
        {
          "output_type": "stream",
          "text": [
            "/content/drive/MyDrive/Colab Notebooks\n"
          ],
          "name": "stdout"
        }
      ]
    },
    {
      "cell_type": "code",
      "metadata": {
        "id": "WAvSPaGMnlNY"
      },
      "source": [
        "import pandas as pd\r\n",
        "import numpy as np\r\n",
        "from sklearn.model_selection import train_test_split\r\n",
        "from sklearn.metrics import accuracy_score\r\n",
        "import time\r\n",
        "from sklearn import tree\r\n",
        "import concurrent.futures as cf\r\n",
        "import os\r\n",
        "from multiprocessing import Pool\r\n",
        "import seaborn as sns\r\n",
        "import matplotlib.pyplot as plt"
      ],
      "execution_count": null,
      "outputs": []
    },
    {
      "cell_type": "code",
      "metadata": {
        "colab": {
          "base_uri": "https://localhost:8080/"
        },
        "id": "stCU5a9qnrl-",
        "outputId": "41e7548b-b0a5-4e09-b2a3-11d01e2b4873"
      },
      "source": [
        "file = \"ObesityDataSet_raw_and_data_sinthetic.csv\"\r\n",
        "df = pd.read_csv(file)\r\n",
        "\r\n",
        "'''77% of the data was generated synthetically using the Weka tool and the SMOTE filter, 23% of the data was \r\n",
        "collected directly from users through a web platform. According to Data Brief'''\r\n",
        "# Round age, and Weight to integer; Round Height to 2 decimal places; As for other float64-type varialbes, they should be integer\r\n",
        "integer = [\"Age\", \"Weight\", \"FCVC\", \"NCP\", \"CH2O\", \"FAF\", \"TUE\"]\r\n",
        "df[integer] = df[integer].apply(np.int64)\r\n",
        "df = df.round({\"Height\": 2})\r\n",
        "\r\n",
        "\r\n",
        "# convert categorical variables\r\n",
        "for column in df.columns:\r\n",
        "    if df[column].dtypes == \"object\":\r\n",
        "        df[column] = pd.factorize(df[column])[0]\r\n",
        "        \r\n",
        "# define x and y\r\n",
        "x = df[df.columns[0:16]]; y = df[df.columns[16]]\r\n",
        "\r\n",
        "# split the data into training and testing dataset\r\n",
        "x_train, x_test, y_train, y_test = train_test_split(x, y, test_size = 0.33, random_state = 1)\r\n",
        "\r\n",
        "times = list(np.linspace(100, 1414, num=10)) # create equal spaced sample size\r\n",
        "times = [int(x) for x in times] # convert times to integer\r\n",
        "print(times)\r\n",
        "\r\n",
        "y_test = np.array(list(y_test))"
      ],
      "execution_count": null,
      "outputs": [
        {
          "output_type": "stream",
          "text": [
            "[100, 246, 392, 538, 684, 830, 976, 1122, 1268, 1414]\n"
          ],
          "name": "stdout"
        }
      ]
    },
    {
      "cell_type": "code",
      "metadata": {
        "id": "bcC9_w-IoZRp"
      },
      "source": [
        "# the decision tree classifier function\r\n",
        "def f(n):\r\n",
        "    X = x_train.sample(n=n,replace=True) # sample from training dataset\r\n",
        "    Y = y_train.loc[list(X.index)] #get corresponding Y\r\n",
        "    \r\n",
        "    # fit the decision tree\r\n",
        "    clf = tree.DecisionTreeClassifier()\r\n",
        "    clf = clf.fit(X, Y) # fit the decision tree with the sample drawn\r\n",
        "    \r\n",
        "    # predict the obesity level with the decision tree\r\n",
        "    y_predict = clf.predict(x_test)\r\n",
        "    \r\n",
        "    return (y_predict)"
      ],
      "execution_count": null,
      "outputs": []
    },
    {
      "cell_type": "code",
      "metadata": {
        "colab": {
          "base_uri": "https://localhost:8080/"
        },
        "id": "zh8iuRM1GlYc",
        "outputId": "e3cf330d-afa9-4602-91a9-a9b85191ad3c"
      },
      "source": [
        "# decision tree (without bagging/bootstrap)\r\n",
        "clf = tree.DecisionTreeClassifier()\r\n",
        "clf = clf.fit(x_train, y_train)\r\n",
        "y_predict = clf.predict(x_test)\r\n",
        "\r\n",
        "print('The accuracy rate of decision tree is ', accuracy_score(y_test, y_predict))"
      ],
      "execution_count": 73,
      "outputs": [
        {
          "output_type": "stream",
          "text": [
            "The accuracy rate of decision tree is  0.9340028694404591\n"
          ],
          "name": "stdout"
        }
      ]
    },
    {
      "cell_type": "code",
      "metadata": {
        "id": "I-MAv-xpokhp"
      },
      "source": [
        "ac = []; ti = [] # empty list to sotre accuracy score, and time taken\r\n",
        "\r\n",
        "# multi-processing function\r\n",
        "def mult(n,m):\r\n",
        "    #n is how large each sample is, m is how many samples are taken\r\n",
        "    inputs = [n]*m\r\n",
        "\r\n",
        "    if __name__ == \"__main__\":\r\n",
        "        #uses current.futures module instead of multiprocessing\r\n",
        "        with cf.ProcessPoolExecutor() as ex:\r\n",
        "            #timing\r\n",
        "            start = time.perf_counter()\r\n",
        "\r\n",
        "            #uses map to map the function to the inputs and put into results list\r\n",
        "            results = ex.map(f, inputs)\r\n",
        "            \r\n",
        "            #predicting the class\r\n",
        "            pred = np.rint((np.mean([x for x in results], axis = 0)))\r\n",
        "\r\n",
        "            #printing accuracy\r\n",
        "            accu = accuracy_score(list(y_test),pred)\r\n",
        "\r\n",
        "            finish = time.perf_counter()\r\n",
        "\r\n",
        "            #time taken\r\n",
        "            t = finish - start\r\n",
        "            \r\n",
        "            ac.append(accu)\r\n",
        "            ti.append(t)\r\n"
      ],
      "execution_count": null,
      "outputs": []
    },
    {
      "cell_type": "code",
      "metadata": {
        "colab": {
          "base_uri": "https://localhost:8080/",
          "height": 343
        },
        "id": "kTS-wj90o0oy",
        "outputId": "e1263eba-a424-42d0-a667-51e9ac28129e"
      },
      "source": [
        "# create a dataframe the store the result\r\n",
        "df_time = pd.DataFrame(columns = ['sample size', 'time taken (parallel)', 'accuracy (parallel)'])\r\n",
        "df_time['sample size'] = times\r\n",
        "# df_time\r\n",
        "\r\n",
        "for x in times:\r\n",
        "  mult(x, 1000)\r\n",
        "\r\n",
        "df_time['time taken (parallel)'] = ti\r\n",
        "df_time['accuracy (parallel)'] = ac\r\n",
        "\r\n",
        "df_time\r\n"
      ],
      "execution_count": null,
      "outputs": [
        {
          "output_type": "execute_result",
          "data": {
            "text/html": [
              "<div>\n",
              "<style scoped>\n",
              "    .dataframe tbody tr th:only-of-type {\n",
              "        vertical-align: middle;\n",
              "    }\n",
              "\n",
              "    .dataframe tbody tr th {\n",
              "        vertical-align: top;\n",
              "    }\n",
              "\n",
              "    .dataframe thead th {\n",
              "        text-align: right;\n",
              "    }\n",
              "</style>\n",
              "<table border=\"1\" class=\"dataframe\">\n",
              "  <thead>\n",
              "    <tr style=\"text-align: right;\">\n",
              "      <th></th>\n",
              "      <th>sample size</th>\n",
              "      <th>time taken (parallel)</th>\n",
              "      <th>accuracy (parallel)</th>\n",
              "    </tr>\n",
              "  </thead>\n",
              "  <tbody>\n",
              "    <tr>\n",
              "      <th>0</th>\n",
              "      <td>100</td>\n",
              "      <td>2.418997</td>\n",
              "      <td>0.705882</td>\n",
              "    </tr>\n",
              "    <tr>\n",
              "      <th>1</th>\n",
              "      <td>246</td>\n",
              "      <td>2.737330</td>\n",
              "      <td>0.862267</td>\n",
              "    </tr>\n",
              "    <tr>\n",
              "      <th>2</th>\n",
              "      <td>392</td>\n",
              "      <td>3.002920</td>\n",
              "      <td>0.879484</td>\n",
              "    </tr>\n",
              "    <tr>\n",
              "      <th>3</th>\n",
              "      <td>538</td>\n",
              "      <td>3.392259</td>\n",
              "      <td>0.886657</td>\n",
              "    </tr>\n",
              "    <tr>\n",
              "      <th>4</th>\n",
              "      <td>684</td>\n",
              "      <td>3.572717</td>\n",
              "      <td>0.898135</td>\n",
              "    </tr>\n",
              "    <tr>\n",
              "      <th>5</th>\n",
              "      <td>830</td>\n",
              "      <td>3.865699</td>\n",
              "      <td>0.903874</td>\n",
              "    </tr>\n",
              "    <tr>\n",
              "      <th>6</th>\n",
              "      <td>976</td>\n",
              "      <td>4.168618</td>\n",
              "      <td>0.922525</td>\n",
              "    </tr>\n",
              "    <tr>\n",
              "      <th>7</th>\n",
              "      <td>1122</td>\n",
              "      <td>4.535631</td>\n",
              "      <td>0.926829</td>\n",
              "    </tr>\n",
              "    <tr>\n",
              "      <th>8</th>\n",
              "      <td>1268</td>\n",
              "      <td>4.575667</td>\n",
              "      <td>0.931133</td>\n",
              "    </tr>\n",
              "    <tr>\n",
              "      <th>9</th>\n",
              "      <td>1414</td>\n",
              "      <td>5.066876</td>\n",
              "      <td>0.938307</td>\n",
              "    </tr>\n",
              "  </tbody>\n",
              "</table>\n",
              "</div>"
            ],
            "text/plain": [
              "   sample size  time taken (parallel)  accuracy (parallel)\n",
              "0          100               2.418997             0.705882\n",
              "1          246               2.737330             0.862267\n",
              "2          392               3.002920             0.879484\n",
              "3          538               3.392259             0.886657\n",
              "4          684               3.572717             0.898135\n",
              "5          830               3.865699             0.903874\n",
              "6          976               4.168618             0.922525\n",
              "7         1122               4.535631             0.926829\n",
              "8         1268               4.575667             0.931133\n",
              "9         1414               5.066876             0.938307"
            ]
          },
          "metadata": {
            "tags": []
          },
          "execution_count": 45
        }
      ]
    },
    {
      "cell_type": "code",
      "metadata": {
        "id": "fqRvgau5v_7c"
      },
      "source": [
        "# for non-parallel computing\r\n",
        "t2 = []; ac2 = []\r\n",
        "\r\n",
        "for x in times: #n in parallel computing function\r\n",
        "    start = time.perf_counter()\r\n",
        "    q = []\r\n",
        "    for y in range(1000): #m in parallel computing function   \r\n",
        "        t=f(x)\r\n",
        "        q.append(t)\r\n",
        "    pred = np.rint((np.mean(q, axis = 0)))\r\n",
        "    finish = time.perf_counter()\r\n",
        "    \r\n",
        "    t2.append(finish - start)\r\n",
        "    ac2.append(accuracy_score(list(y_test),pred))\r\n",
        "\r\n",
        "df_time['time taken (non-parallel)'] = t2\r\n",
        "df_time['accuracy (non-parallel)'] = ac2\r\n"
      ],
      "execution_count": null,
      "outputs": []
    },
    {
      "cell_type": "code",
      "metadata": {
        "colab": {
          "base_uri": "https://localhost:8080/",
          "height": 343
        },
        "id": "arprcDDF4Gic",
        "outputId": "3be49fac-aa9d-4c50-fba3-ad1cfe2425c3"
      },
      "source": [
        "df_time"
      ],
      "execution_count": null,
      "outputs": [
        {
          "output_type": "execute_result",
          "data": {
            "text/html": [
              "<div>\n",
              "<style scoped>\n",
              "    .dataframe tbody tr th:only-of-type {\n",
              "        vertical-align: middle;\n",
              "    }\n",
              "\n",
              "    .dataframe tbody tr th {\n",
              "        vertical-align: top;\n",
              "    }\n",
              "\n",
              "    .dataframe thead th {\n",
              "        text-align: right;\n",
              "    }\n",
              "</style>\n",
              "<table border=\"1\" class=\"dataframe\">\n",
              "  <thead>\n",
              "    <tr style=\"text-align: right;\">\n",
              "      <th></th>\n",
              "      <th>sample size</th>\n",
              "      <th>time taken (parallel)</th>\n",
              "      <th>accuracy (parallel)</th>\n",
              "      <th>time taken (non-parallel)</th>\n",
              "      <th>accuracy (non-parallel)</th>\n",
              "    </tr>\n",
              "  </thead>\n",
              "  <tbody>\n",
              "    <tr>\n",
              "      <th>0</th>\n",
              "      <td>100</td>\n",
              "      <td>2.418997</td>\n",
              "      <td>0.705882</td>\n",
              "      <td>2.562794</td>\n",
              "      <td>0.705882</td>\n",
              "    </tr>\n",
              "    <tr>\n",
              "      <th>1</th>\n",
              "      <td>246</td>\n",
              "      <td>2.737330</td>\n",
              "      <td>0.862267</td>\n",
              "      <td>2.857053</td>\n",
              "      <td>0.857963</td>\n",
              "    </tr>\n",
              "    <tr>\n",
              "      <th>2</th>\n",
              "      <td>392</td>\n",
              "      <td>3.002920</td>\n",
              "      <td>0.879484</td>\n",
              "      <td>3.330296</td>\n",
              "      <td>0.873745</td>\n",
              "    </tr>\n",
              "    <tr>\n",
              "      <th>3</th>\n",
              "      <td>538</td>\n",
              "      <td>3.392259</td>\n",
              "      <td>0.886657</td>\n",
              "      <td>3.619281</td>\n",
              "      <td>0.886657</td>\n",
              "    </tr>\n",
              "    <tr>\n",
              "      <th>4</th>\n",
              "      <td>684</td>\n",
              "      <td>3.572717</td>\n",
              "      <td>0.898135</td>\n",
              "      <td>3.978163</td>\n",
              "      <td>0.895265</td>\n",
              "    </tr>\n",
              "    <tr>\n",
              "      <th>5</th>\n",
              "      <td>830</td>\n",
              "      <td>3.865699</td>\n",
              "      <td>0.903874</td>\n",
              "      <td>4.358633</td>\n",
              "      <td>0.906743</td>\n",
              "    </tr>\n",
              "    <tr>\n",
              "      <th>6</th>\n",
              "      <td>976</td>\n",
              "      <td>4.168618</td>\n",
              "      <td>0.922525</td>\n",
              "      <td>4.783588</td>\n",
              "      <td>0.919656</td>\n",
              "    </tr>\n",
              "    <tr>\n",
              "      <th>7</th>\n",
              "      <td>1122</td>\n",
              "      <td>4.535631</td>\n",
              "      <td>0.926829</td>\n",
              "      <td>5.115729</td>\n",
              "      <td>0.923960</td>\n",
              "    </tr>\n",
              "    <tr>\n",
              "      <th>8</th>\n",
              "      <td>1268</td>\n",
              "      <td>4.575667</td>\n",
              "      <td>0.931133</td>\n",
              "      <td>5.433657</td>\n",
              "      <td>0.925395</td>\n",
              "    </tr>\n",
              "    <tr>\n",
              "      <th>9</th>\n",
              "      <td>1414</td>\n",
              "      <td>5.066876</td>\n",
              "      <td>0.938307</td>\n",
              "      <td>5.660789</td>\n",
              "      <td>0.935438</td>\n",
              "    </tr>\n",
              "  </tbody>\n",
              "</table>\n",
              "</div>"
            ],
            "text/plain": [
              "   sample size  ...  accuracy (non-parallel)\n",
              "0          100  ...                 0.705882\n",
              "1          246  ...                 0.857963\n",
              "2          392  ...                 0.873745\n",
              "3          538  ...                 0.886657\n",
              "4          684  ...                 0.895265\n",
              "5          830  ...                 0.906743\n",
              "6          976  ...                 0.919656\n",
              "7         1122  ...                 0.923960\n",
              "8         1268  ...                 0.925395\n",
              "9         1414  ...                 0.935438\n",
              "\n",
              "[10 rows x 5 columns]"
            ]
          },
          "metadata": {
            "tags": []
          },
          "execution_count": 47
        }
      ]
    },
    {
      "cell_type": "code",
      "metadata": {
        "colab": {
          "base_uri": "https://localhost:8080/",
          "height": 279
        },
        "id": "MYa7hfZH46iF",
        "outputId": "56fced90-493e-492d-96de-4aa7e8fd8d22"
      },
      "source": [
        "# visualization of time taken for the whole process\r\n",
        "plt.plot('sample size', 'time taken (parallel)', data=df_time, marker = 'o')\r\n",
        "plt.plot('sample size', 'time taken (non-parallel)', data=df_time, marker = '')\r\n",
        "\r\n",
        "plt.legend()\r\n",
        "plt.xlabel('sample size'); plt.ylabel('time taken')\r\n",
        "\r\n",
        "plt.show()"
      ],
      "execution_count": null,
      "outputs": [
        {
          "output_type": "display_data",
          "data": {
            "image/png": "[encoded data removed]",
            "text/plain": [
              "<Figure size 432x288 with 1 Axes>"
            ]
          },
          "metadata": {
            "tags": [],
            "needs_background": "light"
          }
        }
      ]
    },
    {
      "cell_type": "code",
      "metadata": {
        "colab": {
          "base_uri": "https://localhost:8080/",
          "height": 279
        },
        "id": "F0TkNjGN7WNO",
        "outputId": "1af8fa58-bbd3-46af-89ef-6267f528f7f4"
      },
      "source": [
        "plt.plot('sample size', 'accuracy (parallel)', data=df_time, marker = 'o')\r\n",
        "plt.plot('sample size', 'accuracy (non-parallel)', data=df_time, marker = '')\r\n",
        "\r\n",
        "plt.legend()\r\n",
        "plt.xlabel('sample size'); plt.ylabel('accuracy')\r\n",
        "\r\n",
        "plt.show()"
      ],
      "execution_count": null,
      "outputs": [
        {
          "output_type": "display_data",
          "data": {
            "image/png": "[encoded data removed]",
            "text/plain": [
              "<Figure size 432x288 with 1 Axes>"
            ]
          },
          "metadata": {
            "tags": [],
            "needs_background": "light"
          }
        }
      ]
    },
    {
      "cell_type": "markdown",
      "metadata": {
        "id": "4VMCBuO08VYL"
      },
      "source": [
        "The accuracy rates of both parallel computing and non-parallel computing increase with bootstrap sample size, and reach the maximum when n=1414, i.e. the size of the training dataset. Even though the maximum accuracy rate is achieved when n = 1414, it is not significantly different from the accuracy rate of the decision tree without bootstrap. Parallel computing takes less time than non-parallel computing with the same bootstrap sample size."
      ]
    }
  ]
}