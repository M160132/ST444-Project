{
  "nbformat": 4,
  "nbformat_minor": 0,
  "metadata": {
    "colab": {
      "name": "ST444",
      "provenance": [],
      "collapsed_sections": []
    },
    "kernelspec": {
      "name": "python3",
      "display_name": "Python 3"
    }
  },
  "cells": [
    {
      "cell_type": "code",
      "metadata": {
        "colab": {
          "base_uri": "https://localhost:8080/"
        },
        "id": "3vnSmR7JnROV",
        "outputId": "401893e2-e170-4871-aad7-e7e2b26b3494"
      },
      "source": [
        "from google.colab import drive\r\n",
        "drive.mount('/content/drive')"
      ],
      "execution_count": 1,
      "outputs": [
        {
          "output_type": "stream",
          "text": [
            "Mounted at /content/drive\n"
          ],
          "name": "stdout"
        }
      ]
    },
    {
      "cell_type": "code",
      "metadata": {
        "colab": {
          "base_uri": "https://localhost:8080/"
        },
        "id": "Skqad1XanjnX",
        "outputId": "f6b5a820-82d1-4d22-f519-c2edefcee24f"
      },
      "source": [
        "cd /content/drive/MyDrive/Colab\\ Notebooks"
      ],
      "execution_count": 2,
      "outputs": [
        {
          "output_type": "stream",
          "text": [
            "/content/drive/MyDrive/Colab Notebooks\n"
          ],
          "name": "stdout"
        }
      ]
    },
    {
      "cell_type": "code",
      "metadata": {
        "id": "WAvSPaGMnlNY"
      },
      "source": [
        "import pandas as pd\r\n",
        "import numpy as np\r\n",
        "from sklearn.model_selection import train_test_split\r\n",
        "from sklearn.metrics import accuracy_score\r\n",
        "import time\r\n",
        "from sklearn import tree\r\n",
        "import concurrent.futures as cf\r\n",
        "import os\r\n",
        "from multiprocessing import Pool\r\n",
        "import seaborn as sns\r\n",
        "import matplotlib.pyplot as plt"
      ],
      "execution_count": 3,
      "outputs": []
    },
    {
      "cell_type": "code",
      "metadata": {
        "colab": {
          "base_uri": "https://localhost:8080/"
        },
        "id": "stCU5a9qnrl-",
        "outputId": "bec0096b-5770-4d58-cc29-8c0704b28c98"
      },
      "source": [
        "file = \"ObesityDataSet_raw_and_data_sinthetic.csv\"\r\n",
        "df = pd.read_csv(file)\r\n",
        "\r\n",
        "'''77% of the data was generated synthetically using the Weka tool and the SMOTE filter, 23% of the data was \r\n",
        "collected directly from users through a web platform. According to Data Brief'''\r\n",
        "# Round age, and Weight to integer; Round Height to 2 decimal places; As for other float64-type varialbes, they should be integer\r\n",
        "integer = [\"Age\", \"Weight\", \"FCVC\", \"NCP\", \"CH2O\", \"FAF\", \"TUE\"]\r\n",
        "df[integer] = df[integer].apply(np.int64)\r\n",
        "df = df.round({\"Height\": 2})\r\n",
        "\r\n",
        "\r\n",
        "# convert categorical variables\r\n",
        "for column in df.columns:\r\n",
        "    if df[column].dtypes == \"object\":\r\n",
        "        df[column] = pd.factorize(df[column])[0]\r\n",
        "        \r\n",
        "# define x and y\r\n",
        "x = df[df.columns[0:16]]; y = df[df.columns[16]]\r\n",
        "\r\n",
        "# split the data into training and testing dataset\r\n",
        "x_train, x_test, y_train, y_test = train_test_split(x, y, test_size = 0.33, random_state = 2)\r\n",
        "\r\n",
        "times = list(np.linspace(100, 1414, num=10)) # create equal spaced sample size\r\n",
        "times = [int(x) for x in times] # convert times to integer\r\n",
        "print(times)\r\n",
        "\r\n",
        "y_test = np.array(list(y_test))"
      ],
      "execution_count": 12,
      "outputs": [
        {
          "output_type": "stream",
          "text": [
            "[100, 246, 392, 538, 684, 830, 976, 1122, 1268, 1414]\n"
          ],
          "name": "stdout"
        }
      ]
    },
    {
      "cell_type": "code",
      "metadata": {
        "id": "bcC9_w-IoZRp"
      },
      "source": [
        "# the decision tree classifier function\r\n",
        "def f(n):\r\n",
        "    X = x_train.sample(n=n,replace=True) # sample from training dataset\r\n",
        "    Y = y_train.loc[list(X.index)] #get corresponding Y\r\n",
        "    \r\n",
        "    # fit the decision tree\r\n",
        "    clf = tree.DecisionTreeClassifier()\r\n",
        "    clf = clf.fit(X, Y) # fit the decision tree with the sample drawn\r\n",
        "    \r\n",
        "    # predict the obesity level with the decision tree\r\n",
        "    y_predict = clf.predict(x_test)\r\n",
        "    \r\n",
        "    return (y_predict)"
      ],
      "execution_count": 14,
      "outputs": []
    },
    {
      "cell_type": "code",
      "metadata": {
        "colab": {
          "base_uri": "https://localhost:8080/"
        },
        "id": "zh8iuRM1GlYc",
        "outputId": "1b2bed6f-c86f-4e3a-b64b-2155d320d769"
      },
      "source": [
        "# decision tree (without bagging/bootstrap)\r\n",
        "t1 = time.time()\r\n",
        "clf = tree.DecisionTreeClassifier()\r\n",
        "clf = clf.fit(x_train, y_train)\r\n",
        "y_predict = clf.predict(x_test)\r\n",
        "t2 = time.time() - t1\r\n",
        "\r\n",
        "print('The accuracy rate of decision tree is ', accuracy_score(y_test, y_predict),\r\n",
        "   '\\n The time taken for simple decision tree is ', t2)"
      ],
      "execution_count": 60,
      "outputs": [
        {
          "output_type": "stream",
          "text": [
            "The accuracy rate of decision tree is  0.945480631276901 \n",
            " The time taken for simple decision tree is  0.011224746704101562\n"
          ],
          "name": "stdout"
        }
      ]
    },
    {
      "cell_type": "code",
      "metadata": {
        "id": "I-MAv-xpokhp"
      },
      "source": [
        "# multi-processing function\r\n",
        "def mult(n,m):\r\n",
        "    #n is how large each sample is, m is how many samples are taken\r\n",
        "    inputs = [n]*m\r\n",
        "\r\n",
        "    if __name__ == \"__main__\":\r\n",
        "        #uses current.futures module instead of multiprocessing\r\n",
        "        with cf.ProcessPoolExecutor() as ex:\r\n",
        "            #timing\r\n",
        "            start = time.perf_counter()\r\n",
        "\r\n",
        "            #uses map to map the function to the inputs and put into results list\r\n",
        "            results = ex.map(f, inputs)\r\n",
        "            \r\n",
        "            #predicting the class\r\n",
        "            pred = np.rint((np.mean([x for x in results], axis = 0)))\r\n",
        "\r\n",
        "            #printing accuracy\r\n",
        "            accu = accuracy_score(list(y_test),pred)\r\n",
        "\r\n",
        "            finish = time.perf_counter()\r\n",
        "\r\n",
        "            #time taken\r\n",
        "            t = finish - start\r\n",
        "            \r\n",
        "            return [accu, t]\r\n"
      ],
      "execution_count": 24,
      "outputs": []
    },
    {
      "cell_type": "code",
      "metadata": {
        "colab": {
          "base_uri": "https://localhost:8080/",
          "height": 343
        },
        "id": "kTS-wj90o0oy",
        "outputId": "9e5e60a1-f78d-476c-d43e-4571b8a25191"
      },
      "source": [
        "# create a dataframe the store the result\r\n",
        "df_time = pd.DataFrame(columns = ['sample size'])\r\n",
        "df_time['sample size'] = times\r\n",
        "# df_time\r\n",
        "\r\n",
        "# result\r\n",
        "result = df_time['sample size'].apply(lambda x: mult(x, 1000))\r\n",
        "\r\n",
        "# split the list to two columns\r\n",
        "result = pd.DataFrame(result.to_list(), columns=['accuracy (parallel)', 'time taken (parallel)'])\r\n",
        "\r\n",
        "# combine the result dataframe with df_time\r\n",
        "df_time = df_time.join(result)\r\n",
        "\r\n",
        "df_time\r\n",
        "\r\n"
      ],
      "execution_count": 47,
      "outputs": [
        {
          "output_type": "execute_result",
          "data": {
            "text/html": [
              "<div>\n",
              "<style scoped>\n",
              "    .dataframe tbody tr th:only-of-type {\n",
              "        vertical-align: middle;\n",
              "    }\n",
              "\n",
              "    .dataframe tbody tr th {\n",
              "        vertical-align: top;\n",
              "    }\n",
              "\n",
              "    .dataframe thead th {\n",
              "        text-align: right;\n",
              "    }\n",
              "</style>\n",
              "<table border=\"1\" class=\"dataframe\">\n",
              "  <thead>\n",
              "    <tr style=\"text-align: right;\">\n",
              "      <th></th>\n",
              "      <th>sample size</th>\n",
              "      <th>accuracy (parallel)</th>\n",
              "      <th>time taken (parallel)</th>\n",
              "    </tr>\n",
              "  </thead>\n",
              "  <tbody>\n",
              "    <tr>\n",
              "      <th>0</th>\n",
              "      <td>100</td>\n",
              "      <td>0.664275</td>\n",
              "      <td>2.372030</td>\n",
              "    </tr>\n",
              "    <tr>\n",
              "      <th>1</th>\n",
              "      <td>246</td>\n",
              "      <td>0.833572</td>\n",
              "      <td>2.669824</td>\n",
              "    </tr>\n",
              "    <tr>\n",
              "      <th>2</th>\n",
              "      <td>392</td>\n",
              "      <td>0.866571</td>\n",
              "      <td>3.035222</td>\n",
              "    </tr>\n",
              "    <tr>\n",
              "      <th>3</th>\n",
              "      <td>538</td>\n",
              "      <td>0.886657</td>\n",
              "      <td>3.200023</td>\n",
              "    </tr>\n",
              "    <tr>\n",
              "      <th>4</th>\n",
              "      <td>684</td>\n",
              "      <td>0.889527</td>\n",
              "      <td>3.442165</td>\n",
              "    </tr>\n",
              "    <tr>\n",
              "      <th>5</th>\n",
              "      <td>830</td>\n",
              "      <td>0.901004</td>\n",
              "      <td>3.763556</td>\n",
              "    </tr>\n",
              "    <tr>\n",
              "      <th>6</th>\n",
              "      <td>976</td>\n",
              "      <td>0.906743</td>\n",
              "      <td>4.021943</td>\n",
              "    </tr>\n",
              "    <tr>\n",
              "      <th>7</th>\n",
              "      <td>1122</td>\n",
              "      <td>0.915352</td>\n",
              "      <td>4.279680</td>\n",
              "    </tr>\n",
              "    <tr>\n",
              "      <th>8</th>\n",
              "      <td>1268</td>\n",
              "      <td>0.915352</td>\n",
              "      <td>4.542170</td>\n",
              "    </tr>\n",
              "    <tr>\n",
              "      <th>9</th>\n",
              "      <td>1414</td>\n",
              "      <td>0.921090</td>\n",
              "      <td>5.050818</td>\n",
              "    </tr>\n",
              "  </tbody>\n",
              "</table>\n",
              "</div>"
            ],
            "text/plain": [
              "   sample size  accuracy (parallel)  time taken (parallel)\n",
              "0          100             0.664275               2.372030\n",
              "1          246             0.833572               2.669824\n",
              "2          392             0.866571               3.035222\n",
              "3          538             0.886657               3.200023\n",
              "4          684             0.889527               3.442165\n",
              "5          830             0.901004               3.763556\n",
              "6          976             0.906743               4.021943\n",
              "7         1122             0.915352               4.279680\n",
              "8         1268             0.915352               4.542170\n",
              "9         1414             0.921090               5.050818"
            ]
          },
          "metadata": {
            "tags": []
          },
          "execution_count": 47
        }
      ]
    },
    {
      "cell_type": "code",
      "metadata": {
        "id": "fqRvgau5v_7c"
      },
      "source": [
        "# for non-parallel computing\r\n",
        "t2 = []; ac2 = []\r\n",
        "\r\n",
        "for x in times: #n in parallel computing function\r\n",
        "    start = time.perf_counter()\r\n",
        "    q = []\r\n",
        "    for y in range(1000): #m in parallel computing function   \r\n",
        "        t=f(x)\r\n",
        "        q.append(t)\r\n",
        "    pred = np.rint((np.mean(q, axis = 0)))\r\n",
        "    finish = time.perf_counter()\r\n",
        "    \r\n",
        "    t2.append(finish - start)\r\n",
        "    ac2.append(accuracy_score(list(y_test),pred))\r\n",
        "\r\n",
        "df_time['time taken (non-parallel)'] = t2\r\n",
        "df_time['accuracy (non-parallel)'] = ac2\r\n"
      ],
      "execution_count": 48,
      "outputs": []
    },
    {
      "cell_type": "code",
      "metadata": {
        "colab": {
          "base_uri": "https://localhost:8080/",
          "height": 343
        },
        "id": "arprcDDF4Gic",
        "outputId": "33c0df12-6616-4210-bc7c-8be9204666e3"
      },
      "source": [
        "df_time"
      ],
      "execution_count": 49,
      "outputs": [
        {
          "output_type": "execute_result",
          "data": {
            "text/html": [
              "<div>\n",
              "<style scoped>\n",
              "    .dataframe tbody tr th:only-of-type {\n",
              "        vertical-align: middle;\n",
              "    }\n",
              "\n",
              "    .dataframe tbody tr th {\n",
              "        vertical-align: top;\n",
              "    }\n",
              "\n",
              "    .dataframe thead th {\n",
              "        text-align: right;\n",
              "    }\n",
              "</style>\n",
              "<table border=\"1\" class=\"dataframe\">\n",
              "  <thead>\n",
              "    <tr style=\"text-align: right;\">\n",
              "      <th></th>\n",
              "      <th>sample size</th>\n",
              "      <th>accuracy (parallel)</th>\n",
              "      <th>time taken (parallel)</th>\n",
              "      <th>time taken (non-parallel)</th>\n",
              "      <th>accuracy (non-parallel)</th>\n",
              "    </tr>\n",
              "  </thead>\n",
              "  <tbody>\n",
              "    <tr>\n",
              "      <th>0</th>\n",
              "      <td>100</td>\n",
              "      <td>0.664275</td>\n",
              "      <td>2.372030</td>\n",
              "      <td>2.439101</td>\n",
              "      <td>0.672884</td>\n",
              "    </tr>\n",
              "    <tr>\n",
              "      <th>1</th>\n",
              "      <td>246</td>\n",
              "      <td>0.833572</td>\n",
              "      <td>2.669824</td>\n",
              "      <td>2.817283</td>\n",
              "      <td>0.829268</td>\n",
              "    </tr>\n",
              "    <tr>\n",
              "      <th>2</th>\n",
              "      <td>392</td>\n",
              "      <td>0.866571</td>\n",
              "      <td>3.035222</td>\n",
              "      <td>3.176890</td>\n",
              "      <td>0.865136</td>\n",
              "    </tr>\n",
              "    <tr>\n",
              "      <th>3</th>\n",
              "      <td>538</td>\n",
              "      <td>0.886657</td>\n",
              "      <td>3.200023</td>\n",
              "      <td>3.582444</td>\n",
              "      <td>0.882353</td>\n",
              "    </tr>\n",
              "    <tr>\n",
              "      <th>4</th>\n",
              "      <td>684</td>\n",
              "      <td>0.889527</td>\n",
              "      <td>3.442165</td>\n",
              "      <td>4.000368</td>\n",
              "      <td>0.889527</td>\n",
              "    </tr>\n",
              "    <tr>\n",
              "      <th>5</th>\n",
              "      <td>830</td>\n",
              "      <td>0.901004</td>\n",
              "      <td>3.763556</td>\n",
              "      <td>4.194197</td>\n",
              "      <td>0.898135</td>\n",
              "    </tr>\n",
              "    <tr>\n",
              "      <th>6</th>\n",
              "      <td>976</td>\n",
              "      <td>0.906743</td>\n",
              "      <td>4.021943</td>\n",
              "      <td>4.623439</td>\n",
              "      <td>0.905308</td>\n",
              "    </tr>\n",
              "    <tr>\n",
              "      <th>7</th>\n",
              "      <td>1122</td>\n",
              "      <td>0.915352</td>\n",
              "      <td>4.279680</td>\n",
              "      <td>4.808286</td>\n",
              "      <td>0.916786</td>\n",
              "    </tr>\n",
              "    <tr>\n",
              "      <th>8</th>\n",
              "      <td>1268</td>\n",
              "      <td>0.915352</td>\n",
              "      <td>4.542170</td>\n",
              "      <td>5.142107</td>\n",
              "      <td>0.916786</td>\n",
              "    </tr>\n",
              "    <tr>\n",
              "      <th>9</th>\n",
              "      <td>1414</td>\n",
              "      <td>0.921090</td>\n",
              "      <td>5.050818</td>\n",
              "      <td>5.476479</td>\n",
              "      <td>0.921090</td>\n",
              "    </tr>\n",
              "  </tbody>\n",
              "</table>\n",
              "</div>"
            ],
            "text/plain": [
              "   sample size  ...  accuracy (non-parallel)\n",
              "0          100  ...                 0.672884\n",
              "1          246  ...                 0.829268\n",
              "2          392  ...                 0.865136\n",
              "3          538  ...                 0.882353\n",
              "4          684  ...                 0.889527\n",
              "5          830  ...                 0.898135\n",
              "6          976  ...                 0.905308\n",
              "7         1122  ...                 0.916786\n",
              "8         1268  ...                 0.916786\n",
              "9         1414  ...                 0.921090\n",
              "\n",
              "[10 rows x 5 columns]"
            ]
          },
          "metadata": {
            "tags": []
          },
          "execution_count": 49
        }
      ]
    },
    {
      "cell_type": "code",
      "metadata": {
        "colab": {
          "base_uri": "https://localhost:8080/",
          "height": 279
        },
        "id": "MYa7hfZH46iF",
        "outputId": "6ebd7aae-f33e-4aa8-be18-d3ac366bd777"
      },
      "source": [
        "# visualization of time taken for the whole process\r\n",
        "plt.plot('sample size', 'time taken (parallel)', data=df_time, marker = 'o')\r\n",
        "plt.plot('sample size', 'time taken (non-parallel)', data=df_time, marker = '')\r\n",
        "\r\n",
        "plt.legend()\r\n",
        "plt.xlabel('sample size'); plt.ylabel('time taken')\r\n",
        "\r\n",
        "plt.show()"
      ],
      "execution_count": 50,
      "outputs": [
        {
          "output_type": "display_data",
          "data": {
            "image/png": "[encoded data removed]",
            "text/plain": [
              "<Figure size 432x288 with 1 Axes>"
            ]
          },
          "metadata": {
            "tags": [],
            "needs_background": "light"
          }
        }
      ]
    },
    {
      "cell_type": "code",
      "metadata": {
        "colab": {
          "base_uri": "https://localhost:8080/",
          "height": 279
        },
        "id": "F0TkNjGN7WNO",
        "outputId": "b7a70185-092c-4c81-ad18-36fa4ea5c7e7"
      },
      "source": [
        "plt.plot('sample size', 'accuracy (parallel)', data=df_time, marker = 'o')\r\n",
        "plt.plot('sample size', 'accuracy (non-parallel)', data=df_time, marker = '')\r\n",
        "\r\n",
        "plt.legend()\r\n",
        "plt.xlabel('sample size'); plt.ylabel('accuracy')\r\n",
        "\r\n",
        "plt.show()"
      ],
      "execution_count": 51,
      "outputs": [
        {
          "output_type": "display_data",
          "data": {
            "image/png": "[encoded data removed]",
            "text/plain": [
              "<Figure size 432x288 with 1 Axes>"
            ]
          },
          "metadata": {
            "tags": [],
            "needs_background": "light"
          }
        }
      ]
    },
    {
      "cell_type": "markdown",
      "metadata": {
        "id": "4VMCBuO08VYL"
      },
      "source": [
        "The accuracy rates of both parallel computing and non-parallel computing increase with bootstrap sample size, and reach the maximum when n=1414, i.e. the size of the training dataset. Even though the maximum accuracy rate is achieved when n = 1414, it is not significantly different from the accuracy rate of the decision tree without bootstrap. Parallel computing takes less time than non-parallel computing with the same bootstrap sample size."
      ]
    },
    {
      "cell_type": "code",
      "metadata": {
        "id": "avPiVkWwo22X"
      },
      "source": [
        "# vary the number of bootstrap sample\r\n",
        "num_boot = list(np.linspace(10, 1000, num=20))\r\n",
        "num_boot = [int(i) for i in num_boot]\r\n",
        "\r\n",
        "# dataframe to contain the result\r\n",
        "df2 = pd.DataFrame(num_boot, columns=['number_bs'])\r\n",
        "\r\n",
        "# result\r\n",
        "result2 = df2['number_bs'].apply(lambda x: mult(1414, x))\r\n",
        "\r\n",
        "# split the list to two columns\r\n",
        "result2 = pd.DataFrame(result2.to_list(), columns=['accuracy (parallel)', 'time taken (parallel)'])\r\n",
        "\r\n",
        "# combine the result dataframe with df_time\r\n",
        "df2 = df2.join(result2)\r\n",
        "\r\n",
        "# df2\r\n",
        "\r\n"
      ],
      "execution_count": 66,
      "outputs": []
    },
    {
      "cell_type": "code",
      "metadata": {
        "id": "eQSGasOJLURN"
      },
      "source": [
        "t3 = []; ac3 = []\r\n",
        "\r\n",
        "for x in num_boot: #n in parallel computing function\r\n",
        "    start = time.perf_counter()\r\n",
        "    q = []\r\n",
        "    for y in range(x): #m in parallel computing function   \r\n",
        "        t=f(1414)\r\n",
        "        q.append(t)\r\n",
        "    pred = np.rint((np.mean(q, axis = 0)))\r\n",
        "    finish = time.perf_counter()\r\n",
        "    \r\n",
        "    t3.append(finish - start)\r\n",
        "    ac3.append(accuracy_score(list(y_test),pred))\r\n",
        "\r\n",
        "df2['time taken (non-parallel)'] = t3\r\n",
        "df2['accuracy (non-parallel)'] = ac3"
      ],
      "execution_count": 67,
      "outputs": []
    },
    {
      "cell_type": "code",
      "metadata": {
        "colab": {
          "base_uri": "https://localhost:8080/",
          "height": 561
        },
        "id": "oA8v--ktMRMu",
        "outputId": "b4de9183-06c6-4aed-ad06-dd6b5c3be92d"
      },
      "source": [
        "# visualize the result\r\n",
        "fig, (ax1, ax2) = plt.subplots(2,1, figsize = (12, 8), sharex = True)\r\n",
        "ax1.plot(df2['number_bs'], df2['accuracy (non-parallel)'])\r\n",
        "ax1.plot(df2['number_bs'], df2['accuracy (parallel)'])\r\n",
        "ax1.set_title('Accuracy rate vs number of bootstrap samples')\r\n",
        "ax1.set_ylabel('Accuracy Rate')\r\n",
        "\r\n",
        "\r\n",
        "ax2.plot(df2['number_bs'], df2['time taken (non-parallel)'])\r\n",
        "ax2.plot(df2['number_bs'], df2['time taken (parallel)'])\r\n",
        "ax2.set_title('Time taken vs number of bootstrap samples')\r\n",
        "ax2.set_ylabel('Time Taken')\r\n",
        "ax2.set_xlabel('Number of Bootstrap Sample')\r\n",
        "\r\n",
        "fig.legend(labels = ('Non-Parallel', 'Parallel'))\r\n",
        "fig.show()"
      ],
      "execution_count": 86,
      "outputs": [
        {
          "output_type": "display_data",
          "data": {
            "image/png": "[encoded data removed]",
            "text/plain": [
              "<Figure size 864x576 with 2 Axes>"
            ]
          },
          "metadata": {
            "tags": [],
            "needs_background": "light"
          }
        }
      ]
    },
    {
      "cell_type": "markdown",
      "metadata": {
        "id": "X7TAmDiwQdXF"
      },
      "source": [
        "There are some fluctuations of accuracy rate for different numbers of bootstrap samples, but the patterns are not obvious. As for time taken, the time taken of the process increases with the number of bootstrap samples, and it takes less time for the parallel computing to complete the bagging process than non-parallel computing."
      ]
    }
  ]
}